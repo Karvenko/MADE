{
 "cells": [
  {
   "cell_type": "code",
   "execution_count": 1,
   "id": "higher-deviation",
   "metadata": {},
   "outputs": [],
   "source": [
    "import gym\n",
    "import random\n",
    "import matplotlib.pyplot as plt\n",
    "import numpy as np\n",
    "from scipy.special import softmax\n",
    "%matplotlib inline"
   ]
  },
  {
   "cell_type": "code",
   "execution_count": 2,
   "id": "liberal-farming",
   "metadata": {},
   "outputs": [],
   "source": [
    "HIT = 1\n",
    "STAND = 0\n",
    "DOUBLE = 2\n",
    "GAMMA = 1"
   ]
  },
  {
   "cell_type": "code",
   "execution_count": 3,
   "id": "faced-adrian",
   "metadata": {},
   "outputs": [],
   "source": [
    "env = gym.make('Blackjack-v1', natural = True, sab = False)"
   ]
  },
  {
   "cell_type": "markdown",
   "id": "recent-lemon",
   "metadata": {},
   "source": [
    "# Часть 1\n",
    "## 1. Статическая стратегия"
   ]
  },
  {
   "cell_type": "code",
   "execution_count": 4,
   "id": "behind-daisy",
   "metadata": {},
   "outputs": [],
   "source": [
    "def play_game_static(env = env, max_points = 19, debug = False):\n",
    "    env.reset()\n",
    "    done = False\n",
    "    while env._get_obs()[0] < max_points:\n",
    "        res = env.step(HIT)\n",
    "        done = res[2]\n",
    "    if not done:\n",
    "        res = env.step(STAND)\n",
    "    if debug:\n",
    "        print(env.player)\n",
    "        print(env.dealer)\n",
    "    return res[1], env.player, env.dealer[0]"
   ]
  },
  {
   "cell_type": "code",
   "execution_count": 5,
   "id": "solid-thinking",
   "metadata": {},
   "outputs": [],
   "source": [
    "wins = []\n",
    "for i in range(21):\n",
    "    s = 0\n",
    "    for _ in range(100000):\n",
    "        reward, _, _ = play_game_static(env, i)\n",
    "        s += reward\n",
    "    wins.append(s / 100000)"
   ]
  },
  {
   "cell_type": "code",
   "execution_count": 6,
   "id": "speaking-process",
   "metadata": {},
   "outputs": [
    {
     "data": {
      "image/png": "[encoded data removed]",
      "text/plain": [
       "<Figure size 432x288 with 1 Axes>"
      ]
     },
     "metadata": {
      "needs_background": "light"
     },
     "output_type": "display_data"
    }
   ],
   "source": [
    "fig = plt.plot(wins)\n",
    "plt.xticks(np.arange(0, 22, 2))\n",
    "plt.grid(axis = 'both')\n",
    "plt.show()"
   ]
  },
  {
   "cell_type": "code",
   "execution_count": 7,
   "id": "atmospheric-violation",
   "metadata": {},
   "outputs": [
    {
     "data": {
      "text/plain": [
       "16"
      ]
     },
     "execution_count": 7,
     "metadata": {},
     "output_type": "execute_result"
    }
   ],
   "source": [
    "np.argmax(wins)"
   ]
  },
  {
   "cell_type": "code",
   "execution_count": 8,
   "id": "black-devices",
   "metadata": {},
   "outputs": [
    {
     "data": {
      "text/plain": [
       "-0.053505"
      ]
     },
     "execution_count": 8,
     "metadata": {},
     "output_type": "execute_result"
    }
   ],
   "source": [
    "wins[np.argmax(wins)]"
   ]
  },
  {
   "cell_type": "markdown",
   "id": "dense-technician",
   "metadata": {},
   "source": [
    "## Оптимальный выигрыш (вернее, проигрыш) достигается при стратегии брать карту при сумме очков меньше 15 или 16 и останавливаться в противном случае. Так мы будет проигрывать около 5% ставки"
   ]
  },
  {
   "cell_type": "code",
   "execution_count": 9,
   "id": "driven-shopping",
   "metadata": {},
   "outputs": [],
   "source": [
    "states = {}"
   ]
  },
  {
   "cell_type": "code",
   "execution_count": 10,
   "id": "unique-vacation",
   "metadata": {},
   "outputs": [],
   "source": [
    "N_PLAY_REPEAT = 10 ** 4\n",
    "def play_with_states(states = states, env = env):\n",
    "    result = 0\n",
    "    for i in range(N_PLAY_REPEAT):\n",
    "        done = False\n",
    "        env.reset()\n",
    "        while not done:\n",
    "            p_hand = str(sorted(env.player)).strip('[]')\n",
    "            d_hand = env.dealer[0]\n",
    "            if p_hand not in states.keys() or d_hand not in states[p_hand].keys():\n",
    "                action = np.random.choice([STAND, HIT], size = 1)[0]\n",
    "            else:\n",
    "#                 print('jjj')\n",
    "                r_dict = states[p_hand][d_hand]\n",
    "                if r_dict[STAND] > r_dict[HIT]:\n",
    "                    action = STAND\n",
    "                else:\n",
    "                    action = HIT\n",
    "            res = env.step(action)\n",
    "            done = res[2]\n",
    "        result += res[1]\n",
    "    return result / N_PLAY_REPEAT"
   ]
  },
  {
   "cell_type": "code",
   "execution_count": 11,
   "id": "freelance-cutting",
   "metadata": {},
   "outputs": [
    {
     "data": {
      "text/plain": [
       "-0.375"
      ]
     },
     "execution_count": 11,
     "metadata": {},
     "output_type": "execute_result"
    }
   ],
   "source": [
    "play_with_states(states={}, env = env)"
   ]
  },
  {
   "cell_type": "code",
   "execution_count": 12,
   "id": "judicial-blackjack",
   "metadata": {},
   "outputs": [
    {
     "data": {
      "text/plain": [
       "-0.3662"
      ]
     },
     "execution_count": 12,
     "metadata": {},
     "output_type": "execute_result"
    }
   ],
   "source": [
    "play_with_states(states=states, env = env)"
   ]
  },
  {
   "cell_type": "code",
   "execution_count": 13,
   "id": "sharp-explanation",
   "metadata": {},
   "outputs": [
    {
     "name": "stdout",
     "output_type": "stream",
     "text": [
      "0 -0.36995\n",
      "10000 -0.1487\n",
      "20000 -0.1127\n",
      "30000 -0.1171\n",
      "40000 -0.11245\n",
      "50000 -0.10845\n",
      "60000 -0.1053\n",
      "70000 -0.08955\n",
      "80000 -0.09035\n",
      "90000 -0.08205\n",
      "100000 -0.0714\n",
      "110000 -0.09025\n",
      "120000 -0.07885\n",
      "130000 -0.0774\n",
      "140000 -0.0594\n",
      "150000 -0.07975\n",
      "160000 -0.0763\n",
      "170000 -0.07465\n",
      "180000 -0.0786\n",
      "190000 -0.05445\n",
      "200000 -0.0898\n",
      "210000 -0.065\n",
      "220000 -0.0526\n",
      "230000 -0.08385\n",
      "240000 -0.06405\n",
      "250000 -0.05435\n",
      "260000 -0.05685\n",
      "270000 -0.10195\n",
      "280000 -0.05705\n",
      "290000 -0.0698\n",
      "300000 -0.0796\n",
      "310000 -0.09035\n",
      "320000 -0.06865\n",
      "330000 -0.07345\n",
      "340000 -0.0753\n",
      "350000 -0.07215\n",
      "360000 -0.05155\n",
      "370000 -0.075\n",
      "380000 -0.06995\n",
      "390000 -0.0838\n",
      "400000 -0.06725\n",
      "410000 -0.0711\n",
      "420000 -0.0731\n",
      "430000 -0.06275\n",
      "440000 -0.07285\n",
      "450000 -0.08015\n",
      "460000 -0.05645\n",
      "470000 -0.0802\n",
      "480000 -0.0709\n",
      "490000 -0.09125\n",
      "500000 -0.0595\n",
      "510000 -0.0512\n",
      "520000 -0.0779\n",
      "530000 -0.0719\n",
      "540000 -0.06985\n",
      "550000 -0.07015\n",
      "560000 -0.0726\n",
      "570000 -0.06435\n",
      "580000 -0.0915\n",
      "590000 -0.06145\n",
      "600000 -0.07695\n",
      "610000 -0.05875\n",
      "620000 -0.07335\n",
      "630000 -0.07725\n",
      "640000 -0.06135\n",
      "650000 -0.0715\n",
      "660000 -0.05425\n",
      "670000 -0.082\n",
      "680000 -0.08695\n",
      "690000 -0.0662\n",
      "700000 -0.06395\n",
      "710000 -0.0781\n",
      "720000 -0.0751\n",
      "730000 -0.06625\n",
      "740000 -0.07\n",
      "750000 -0.0865\n",
      "760000 -0.0696\n",
      "770000 -0.0712\n",
      "780000 -0.05825\n",
      "790000 -0.06065\n",
      "800000 -0.0687\n",
      "810000 -0.0713\n",
      "820000 -0.05655\n",
      "830000 -0.0753\n",
      "840000 -0.07465\n",
      "850000 -0.0489\n",
      "860000 -0.07635\n",
      "870000 -0.07435\n",
      "880000 -0.07915\n",
      "890000 -0.06435\n",
      "900000 -0.08175\n",
      "910000 -0.0744\n",
      "920000 -0.0562\n",
      "930000 -0.0832\n",
      "940000 -0.05585\n",
      "950000 -0.0794\n",
      "960000 -0.06955\n",
      "970000 -0.0617\n",
      "980000 -0.0647\n",
      "990000 -0.0643\n"
     ]
    }
   ],
   "source": [
    "states = {}\n",
    "mean_rewards = []\n",
    "hit_action = str(HIT)\n",
    "stand_action = str(STAND)\n",
    "for i in range(1000000):\n",
    "    if i % 10000 == 0:\n",
    "        mean_rewards.append(play_with_states(states=states, env=env))\n",
    "        print(i, mean_rewards[-1])\n",
    "    env.reset()\n",
    "    done = False\n",
    "    while not done:\n",
    "        p_hand = str(sorted(env.player)).strip('[]')\n",
    "        d_hand = env.dealer[0]\n",
    "        if p_hand not in states.keys():\n",
    "            states[p_hand] = {d_hand: {STAND: 0, HIT: 0}}\n",
    "        elif d_hand not in states[p_hand].keys():\n",
    "            states[p_hand][d_hand] = {STAND: 0, HIT: 0}\n",
    "        act_probs = np.array([x for x in states[p_hand][d_hand].values()])[:2]\n",
    "        act_probs = softmax(act_probs)\n",
    "        action = np.random.choice([STAND, HIT], size=1, p = act_probs)[0]\n",
    "        if p_hand == '1, 10':\n",
    "            action = STAND\n",
    "        res = env.step(action)\n",
    "        done = res[2]\n",
    "    reward = res[1]\n",
    "    states[p_hand][d_hand][action] += reward\n",
    "    for i in range(len(env.player) - 1, 1, -1):\n",
    "        p_hand = str(sorted(env.player[:i])).strip('[]')\n",
    "        reward *= GAMMA\n",
    "        states[p_hand][d_hand][HIT] += reward\n"
   ]
  },
  {
   "cell_type": "code",
   "execution_count": 14,
   "id": "indian-caution",
   "metadata": {},
   "outputs": [
    {
     "data": {
      "image/png": "[encoded data removed]",
      "text/plain": [
       "<Figure size 432x288 with 1 Axes>"
      ]
     },
     "metadata": {
      "needs_background": "light"
     },
     "output_type": "display_data"
    }
   ],
   "source": [
    "fig = plt.plot(mean_rewards)\n",
    "plt.grid(axis = 'both')\n",
    "plt.show()"
   ]
  },
  {
   "cell_type": "markdown",
   "id": "assisted-george",
   "metadata": {},
   "source": [
    "## Пришли примерно туда же"
   ]
  },
  {
   "cell_type": "markdown",
   "id": "assigned-volleyball",
   "metadata": {},
   "source": [
    "# Удвоения и счет"
   ]
  },
  {
   "cell_type": "code",
   "execution_count": 16,
   "id": "chemical-order",
   "metadata": {},
   "outputs": [],
   "source": [
    "import gym\n",
    "from gym import spaces\n",
    "from gym.utils import seeding\n",
    "\n",
    "def cmp(a, b):\n",
    "    return float(a > b) - float(a < b)\n",
    "\n",
    "\n",
    "# 1 = Ace, 2-10 = Number cards, Jack/Queen/King = 10\n",
    "deck = [1, 2, 3, 4, 5, 6, 7, 8, 9, 10]\n",
    "deck_counts = np.array([4, 4, 4, 4, 4, 4, 4, 4, 4, 16])\n",
    "\n",
    "def draw_card(np_random):\n",
    "    card = int(np_random.choice(deck, p = deck_counts / sum(deck_counts)))\n",
    "    deck_counts[card - 1] -= 1\n",
    "    return card\n",
    "\n",
    "def reset_deck():\n",
    "    global deck_counts \n",
    "    deck_counts = np.array([4, 4, 4, 4, 4, 4, 4, 4, 4, 16])\n",
    "\n",
    "def draw_hand(np_random):\n",
    "    return [draw_card(np_random), draw_card(np_random)]\n",
    "\n",
    "\n",
    "def usable_ace(hand):  # Does this hand have a usable ace?\n",
    "    return 1 in hand and sum(hand) + 10 <= 21\n",
    "\n",
    "\n",
    "def sum_hand(hand):  # Return current hand total\n",
    "    if usable_ace(hand):\n",
    "        return sum(hand) + 10\n",
    "    return sum(hand)\n",
    "\n",
    "\n",
    "def is_bust(hand):  # Is this hand a bust?\n",
    "    return sum_hand(hand) > 21\n",
    "\n",
    "\n",
    "def score(hand):  # What is the score of this hand (0 if bust)\n",
    "    return 0 if is_bust(hand) else sum_hand(hand)\n",
    "\n",
    "\n",
    "def is_natural(hand):  # Is this hand a natural blackjack?\n",
    "    return sorted(hand) == [1, 10]\n",
    "\n",
    "\n",
    "class myBlackjackEnv(gym.Env):\n",
    "\n",
    "    def __init__(self, natural=False, sab=False):\n",
    "        self.action_space = spaces.Discrete(3)\n",
    "        self.observation_space = spaces.Tuple(\n",
    "            (spaces.Discrete(32), spaces.Discrete(11), spaces.Discrete(2))\n",
    "        )\n",
    "        self.seed()\n",
    "\n",
    "        # Flag to payout 1.5 on a \"natural\" blackjack win, like casino rules\n",
    "        # Ref: http://www.bicyclecards.com/how-to-play/blackjack/\n",
    "        self.natural = natural\n",
    "\n",
    "        # Flag for full agreement with the (Sutton and Barto, 2018) definition. Overrides self.natural\n",
    "        self.sab = sab\n",
    "\n",
    "    def seed(self, seed=None):\n",
    "        self.np_random, seed = seeding.np_random(seed)\n",
    "        return [seed]\n",
    "\n",
    "    def step(self, action):\n",
    "        deck_reset = False\n",
    "        double_mul = 1\n",
    "        assert self.action_space.contains(action)\n",
    "        if action == 1:  # hit: add a card to players hand and return\n",
    "            self.player.append(draw_card(self.np_random))\n",
    "            if is_bust(self.player):\n",
    "                done = True\n",
    "                if sum(deck_counts) < 15:\n",
    "                    reset_deck()\n",
    "                    deck_reset = True\n",
    "                reward = -1.0\n",
    "            else:\n",
    "                done = False\n",
    "                reward = 0.0\n",
    "        else:  # stick: play out the dealers hand, and score\n",
    "            done = True\n",
    "            if action == 2:\n",
    "                double_mul = 2\n",
    "                self.player.append(draw_card(self.np_random))\n",
    "                if is_bust(self.player):\n",
    "                    if sum(deck_counts) < 15:\n",
    "                        reset_deck()\n",
    "                        deck_reset = True\n",
    "                    return self._get_obs(), -2, done, {}, deck_reset\n",
    "#                     return -2\n",
    "            while sum_hand(self.dealer) < 17:\n",
    "                self.dealer.append(draw_card(self.np_random))\n",
    "            reward = cmp(score(self.player), score(self.dealer))\n",
    "            if self.sab and is_natural(self.player) and not is_natural(self.dealer):\n",
    "                # Player automatically wins. Rules consistent with S&B\n",
    "                reward = 1.0\n",
    "            elif (\n",
    "                not self.sab\n",
    "                and self.natural\n",
    "                and is_natural(self.player)\n",
    "                and reward == 1.0\n",
    "            ):\n",
    "                # Natural gives extra points, but doesn't autowin. Legacy implementation\n",
    "                reward = 1.5\n",
    "            if sum(deck_counts) < 15:\n",
    "                reset_deck()\n",
    "                deck_reset = True\n",
    "        return self._get_obs(), reward * double_mul, done, {}, deck_reset\n",
    "\n",
    "    def _get_obs(self):\n",
    "        return (sum_hand(self.player), self.dealer[0], usable_ace(self.player))\n",
    "\n",
    "    def reset(self):\n",
    "        self.dealer = draw_hand(self.np_random)\n",
    "        self.player = draw_hand(self.np_random)\n",
    "        return self._get_obs()"
   ]
  },
  {
   "cell_type": "code",
   "execution_count": 76,
   "id": "practical-force",
   "metadata": {},
   "outputs": [],
   "source": [
    "BID_VALS = [1, 2, 4, 8, 16, 32, 64, 128] #Bid multipliers\n",
    "PS_SCORE = np.array([x for x in range(-44, 45, 1)]) / 2"
   ]
  },
  {
   "cell_type": "code",
   "execution_count": 77,
   "id": "editorial-retail",
   "metadata": {},
   "outputs": [],
   "source": [
    "bid_dict = {}\n",
    "for s in PS_SCORE:\n",
    "    bid_dict[s] = {}\n",
    "    for b in BID_VALS:\n",
    "        bid_dict[s][b] = 0"
   ]
  },
  {
   "cell_type": "code",
   "execution_count": 78,
   "id": "controversial-conspiracy",
   "metadata": {},
   "outputs": [],
   "source": [
    "update_dict = {\n",
    "    1: -1,\n",
    "    2: 0.5,\n",
    "    3: 1,\n",
    "    4: 1,\n",
    "    5: 1.5,\n",
    "    6: 1, \n",
    "    7: 0.5,\n",
    "    8: 0,\n",
    "    9: -0.5,\n",
    "    10: -1\n",
    "}"
   ]
  },
  {
   "cell_type": "code",
   "execution_count": 79,
   "id": "unexpected-initial",
   "metadata": {},
   "outputs": [],
   "source": [
    "EPS = 0.05"
   ]
  },
  {
   "cell_type": "code",
   "execution_count": 80,
   "id": "regulated-table",
   "metadata": {},
   "outputs": [],
   "source": [
    "def select_bid(counter, bid_dict = bid_dict):\n",
    "#     if counter > 10:\n",
    "#         counter = 10\n",
    "#     if counter < -10:\n",
    "#         counter = -10\n",
    "#     bid_probs = np.array([x for x in bid_dict[counter].values()])\n",
    "#     bid_probs = softmax(bid_probs)\n",
    "#     bid = np.random.choice([x for x in bid_dict[counter].keys()], size=1, p = bid_probs)[0]\n",
    "    if np.random.random() < EPS:\n",
    "        bid = np.random.choice([x for x in bid_dict[counter].keys()], size=1)[0]\n",
    "    else:\n",
    "        bid_vals = np.array([x for x in bid_dict[counter].values()])\n",
    "        bid = [x for x in bid_dict[counter].keys()][np.argmax(bid_vals)]\n",
    "    return bid"
   ]
  },
  {
   "cell_type": "code",
   "execution_count": 81,
   "id": "scheduled-audit",
   "metadata": {},
   "outputs": [
    {
     "name": "stdout",
     "output_type": "stream",
     "text": [
      "0 -1e-05\n",
      "100000 -0.20879\n",
      "200000 -0.19417\n",
      "300000 -0.19007\n",
      "400000 -0.19361\n",
      "500000 -0.19157\n",
      "600000 -0.18279\n",
      "700000 -0.17873\n",
      "800000 -0.18146\n",
      "900000 -0.18059\n",
      "1000000 -0.17626\n",
      "1100000 -0.18453\n",
      "1200000 -0.17555\n",
      "1300000 -0.18182\n",
      "1400000 -0.1727\n",
      "1500000 -0.17081\n",
      "1600000 -0.17145\n",
      "1700000 -0.18465\n",
      "1800000 -0.17967\n",
      "1900000 -0.17052\n",
      "2000000 -0.17384\n",
      "2100000 -0.42546\n",
      "2200000 -0.43495\n",
      "2300000 -0.452\n",
      "2400000 -0.43172\n",
      "2500000 -0.40445\n",
      "2600000 -0.5455\n",
      "2700000 -0.48635\n",
      "2800000 -0.5134\n",
      "2900000 -0.42034\n",
      "3000000 -0.49523\n",
      "3100000 -0.42543\n",
      "3200000 -0.3981\n",
      "3300000 -0.40455\n",
      "3400000 -0.41083\n",
      "3500000 -0.38\n",
      "3600000 -0.45104\n",
      "3700000 -0.47604\n",
      "3800000 -0.43823\n",
      "3900000 -0.33858\n",
      "4000000 -0.43002\n",
      "4100000 -0.43715\n",
      "4200000 -0.4584\n",
      "4300000 -0.3571\n",
      "4400000 -0.51591\n",
      "4500000 -0.55254\n",
      "4600000 -0.3639\n",
      "4700000 -0.37352\n",
      "4800000 -0.52149\n",
      "4900000 -0.45186\n",
      "5000000 -0.46101\n",
      "5100000 -0.43072\n",
      "5200000 -0.46597\n",
      "5300000 -0.46204\n",
      "5400000 -0.44095\n",
      "5500000 -0.42187\n",
      "5600000 -0.3508\n",
      "5700000 -0.39285\n",
      "5800000 -0.40658\n",
      "5900000 -0.40566\n",
      "6000000 -0.44163\n",
      "6100000 -0.39379\n",
      "6200000 -0.43115\n",
      "6300000 -0.44291\n",
      "6400000 -0.46335\n",
      "6500000 -0.46858\n",
      "6600000 -0.34192\n",
      "6700000 -0.45025\n",
      "6800000 -0.4506\n",
      "6900000 -0.51397\n",
      "7000000 -0.43253\n",
      "7100000 -0.38644\n",
      "7200000 -0.39864\n",
      "7300000 -0.45328\n",
      "7400000 -0.43982\n",
      "7500000 -0.42177\n",
      "7600000 -0.43812\n",
      "7700000 -0.44878\n",
      "7800000 -0.39992\n",
      "7900000 -0.44958\n",
      "8000000 -0.42132\n",
      "8100000 -0.37227\n",
      "8200000 -0.49641\n",
      "8300000 -0.48886\n",
      "8400000 -0.54667\n",
      "8500000 -0.42531\n",
      "8600000 -0.44409\n",
      "8700000 -0.43389\n",
      "8800000 -0.35818\n",
      "8900000 -0.50634\n",
      "9000000 -0.41341\n",
      "9100000 -0.47093\n",
      "9200000 -0.39945\n",
      "9300000 -0.40784\n",
      "9400000 -0.43127\n",
      "9500000 -0.45191\n",
      "9600000 -0.35522\n",
      "9700000 -0.40084\n",
      "9800000 -0.47115\n",
      "9900000 -0.43777\n"
     ]
    }
   ],
   "source": [
    "mean_rewards = []\n",
    "states = {}\n",
    "hit_action = str(HIT)\n",
    "stand_action = str(STAND)\n",
    "double_action = str(DOUBLE)\n",
    "\n",
    "bid_dict = {}\n",
    "for s in PS_SCORE:\n",
    "    bid_dict[s] = {}\n",
    "    for b in BID_VALS:\n",
    "        bid_dict[s][b] = 0\n",
    "\n",
    "env = myBlackjackEnv(natural=True, sab=True)\n",
    "counter = 0\n",
    "total_wins = 0\n",
    "for i in range(10000000):\n",
    "    if i > 2000000:\n",
    "        cur_bid = select_bid(counter)\n",
    "    else:\n",
    "        cur_bid = 1\n",
    "    env.reset()\n",
    "    done = False\n",
    "    cur_counter = counter\n",
    "    #update counter with visible cards\n",
    "    cur_counter += update_dict[env.player[0]] + update_dict[env.player[1]] + update_dict[env.dealer[0]]\n",
    "    trace = []\n",
    "    while not done:\n",
    "        p_hand = str(sorted(env.player)).strip('[]')\n",
    "        d_hand = env.dealer[0]\n",
    "        if cur_counter not in states.keys():\n",
    "            states[cur_counter] = {p_hand: {d_hand: {STAND: 0, HIT: 0, DOUBLE:0}}}\n",
    "        elif p_hand not in states[cur_counter].keys():\n",
    "            states[cur_counter][p_hand] = {d_hand: {STAND: 0, HIT: 0, DOUBLE:0}}\n",
    "        elif d_hand not in states[cur_counter][p_hand].keys():\n",
    "            states[cur_counter][p_hand][d_hand] = {STAND: 0, HIT: 0, DOUBLE:0}\n",
    "#         act_probs = np.array([x for x in states[cur_counter][p_hand][d_hand].values()])\n",
    "#         act_probs = softmax(act_probs)\n",
    "#         action = np.random.choice([STAND, HIT, DOUBLE], size=1, p = act_probs)[0]\n",
    "        if np.random.random() < EPS:\n",
    "            action = np.random.choice([STAND, HIT, DOUBLE], size=1)[0]\n",
    "        else:\n",
    "            act_vals = [x for x in states[cur_counter][p_hand][d_hand].values()]\n",
    "            action = [x for x in states[cur_counter][p_hand][d_hand].keys()][np.argmax(act_vals)]\n",
    "        trace.append([cur_counter, p_hand, d_hand])\n",
    "        if p_hand == '1, 10':\n",
    "            action = STAND\n",
    "        res = env.step(action)\n",
    "        done = res[2]\n",
    "        if action != STAND:\n",
    "            cur_counter += update_dict[env.player[-1]]\n",
    "        if done:\n",
    "            for c in env.dealer[1:]:\n",
    "                cur_counter += update_dict[c]\n",
    "    reward = res[1]\n",
    "    for t in trace[:-1]:\n",
    "        states[t[0]][t[1]][t[2]][HIT] += reward\n",
    "    t = trace[-1]\n",
    "    states[t[0]][t[1]][t[2]][action] += reward\n",
    "    if i > 2000000:\n",
    "        bid_dict[counter][cur_bid] += reward * cur_bid\n",
    "    if res[4]:\n",
    "        counter = 0\n",
    "    else:\n",
    "        counter = cur_counter\n",
    "    total_wins += reward * cur_bid\n",
    "    if i % 100000 == 0:\n",
    "        print(i, total_wins / 100000)\n",
    "        total_wins = 0"
   ]
  },
  {
   "cell_type": "code",
   "execution_count": null,
   "id": "eight-explanation",
   "metadata": {},
   "outputs": [],
   "source": []
  }
 ],
 "metadata": {
  "kernelspec": {
   "display_name": "Python 3",
   "language": "python",
   "name": "python3"
  },
  "language_info": {
   "codemirror_mode": {
    "name": "ipython",
    "version": 3
   },
   "file_extension": ".py",
   "mimetype": "text/x-python",
   "name": "python",
   "nbconvert_exporter": "python",
   "pygments_lexer": "ipython3",
   "version": "3.8.10"
  }
 },
 "nbformat": 4,
 "nbformat_minor": 5
}
